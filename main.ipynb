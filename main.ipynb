{
 "cells": [
  {
   "cell_type": "markdown",
   "metadata": {},
   "source": [
    "# Imports"
   ]
  },
  {
   "cell_type": "code",
   "execution_count": 239,
   "metadata": {},
   "outputs": [],
   "source": [
    "import matplotlib.pyplot as plt\n",
    "import numpy as np\n",
    "import tensorflow as tf\n",
    "from keras.models import Sequential, Model\n",
    "from keras.layers import Dense, Flatten, Conv2D, MaxPooling2D, Input, Lambda, BatchNormalization"
   ]
  },
  {
   "cell_type": "markdown",
   "metadata": {},
   "source": [
    "# Loading data"
   ]
  },
  {
   "cell_type": "code",
   "execution_count": 240,
   "metadata": {},
   "outputs": [
    {
     "name": "stdout",
     "output_type": "stream",
     "text": [
      "Shape of X (features): (1797, 8, 8, 1)\n",
      "Shape of y (labels): (1797,)\n"
     ]
    }
   ],
   "source": [
    "from sklearn.datasets import load_digits\n",
    "\n",
    "digits = load_digits()\n",
    "X = digits.data\n",
    "X = X.reshape(-1, 8, 8)  # Reshape to (1797, 8, 8)\n",
    "X = np.expand_dims(X, axis=-1)  # Shape becomes (1797, 8, 8, 1)\n",
    "\n",
    "y = digits.target\n",
    "# Print the shape of the data\n",
    "print(f'Shape of X (features): {X.shape}')  # (1797, 64)\n",
    "print(f'Shape of y (labels): {y.shape}')    # (1797,)\n",
    "\n",
    "# Number of occurances of each label \n",
    "unique_digits, counts = np.unique(y, return_counts=True)\n",
    "digit_counter = {}\n",
    "for i in range(len(unique_digits)):\n",
    "    digit_counter[unique_digits[i]] = counts[i]\n",
    "\n",
    "\n"
   ]
  },
  {
   "cell_type": "markdown",
   "metadata": {},
   "source": [
    "# Creating pairs"
   ]
  },
  {
   "cell_type": "code",
   "execution_count": 241,
   "metadata": {},
   "outputs": [],
   "source": [
    "def create_balanced_pairs(X, y, unique_labels, num_pairs=1000):\n",
    "    \"\"\"Creates an equal number of positive (same class) and negative (different class) pairs.\"\"\"\n",
    "    pairs = []\n",
    "    labels = []\n",
    "    \n",
    "    half_pairs = num_pairs // 2  # Half positive, half negative\n",
    "    \n",
    "    # Step 1: Create positive pairs\n",
    "    for _ in range(half_pairs):\n",
    "        # Randomly select a class\n",
    "        digit_class = np.random.choice(unique_labels)\n",
    "        \n",
    "        # Get indices for this class\n",
    "        indices = np.where(y == digit_class)[0]\n",
    "        \n",
    "        # Select 2 random indices from the same class\n",
    "        if len(indices) >= 2:\n",
    "            idx1, idx2 = np.random.choice(indices, size=2, replace=False)\n",
    "            image1 = X[idx1]\n",
    "            image2 = X[idx2]\n",
    "            \n",
    "            # Add the pair and label it as 1 (positive pair)\n",
    "            pairs.append([image1, image2])\n",
    "            labels.append(0.)\n",
    "    \n",
    "    # Step 2: Create negative pairs\n",
    "    for _ in range(half_pairs):\n",
    "        # Randomly select two different classes\n",
    "        class1, class2 = np.random.choice(unique_labels, size=2, replace=False)\n",
    "        \n",
    "        # Get indices for each class\n",
    "        indices1 = np.where(y == class1)[0]\n",
    "        indices2 = np.where(y == class2)[0]\n",
    "        \n",
    "        # Select one image from each class\n",
    "        idx1 = np.random.choice(indices1)\n",
    "        idx2 = np.random.choice(indices2)\n",
    "        \n",
    "        image1 = X[idx1]\n",
    "        image2 = X[idx2]\n",
    "        \n",
    "        # Add the pair and label it as 0 (negative pair)\n",
    "        pairs.append([image1, image2])\n",
    "        labels.append(1.)\n",
    "    \n",
    "    # Convert pairs and labels to numpy arrays\n",
    "    return np.array(pairs), np.array(labels)"
   ]
  },
  {
   "cell_type": "code",
   "execution_count": 242,
   "metadata": {},
   "outputs": [
    {
     "data": {
      "text/plain": [
       "(50000, 2, 8, 8, 1)"
      ]
     },
     "execution_count": 242,
     "metadata": {},
     "output_type": "execute_result"
    }
   ],
   "source": [
    "pairs_train, labels_train = create_balanced_pairs(X, y, [0, 1, 2, 3, 4, 5, 6], 50000)\n",
    "pairs_test, labels_test = create_balanced_pairs(X, y, [7, 8, 9], 10000)\n",
    "pairs_train.shape"
   ]
  },
  {
   "cell_type": "markdown",
   "metadata": {},
   "source": [
    "# Visualize data"
   ]
  },
  {
   "cell_type": "code",
   "execution_count": 243,
   "metadata": {},
   "outputs": [],
   "source": [
    "# Function to visualize a single pair of images and its label\n",
    "def plot_image_pair(pair, label):\n",
    "    fig, axes = plt.subplots(1, 2, figsize=(8, 4))\n",
    "\n",
    "    # Unpack the pair into two images\n",
    "    image1, image2 = pair\n",
    "\n",
    "    # Plot the first image in the pair\n",
    "    axes[0].imshow(image1.reshape(8, 8), cmap='gray')\n",
    "    axes[0].set_title('Image 1', fontsize=12)\n",
    "    axes[0].axis('off')\n",
    "\n",
    "    # Plot the second image in the pair\n",
    "    axes[1].imshow(image2.reshape(8, 8), cmap='gray')\n",
    "    axes[1].set_title('Image 2', fontsize=12)\n",
    "    axes[1].axis('off')\n",
    "\n",
    "    # Display whether the pair is positive or negative\n",
    "    pair_label = 'Positive Pair' if label == 1 else 'Negative Pair'\n",
    "    plt.suptitle(pair_label, fontsize=16)\n",
    "    plt.show()\n",
    "\n",
    "# Visualize some of the training pairs\n",
    "for i in range(-1, -10, -1):  # Change this to display more or fewer pairs\n",
    "    pair = pairs_test[i]  # Get the pair of images\n",
    "    label = labels_test[i]  # Get the corresponding label (1 for positive, 0 for negative)\n",
    "    \n",
    "    # Plot the pair with its label (positive or negative)\n",
    "#    plot_image_pair(pair, label)"
   ]
  },
  {
   "cell_type": "markdown",
   "metadata": {},
   "source": [
    "# Build CNN Part"
   ]
  },
  {
   "cell_type": "code",
   "execution_count": 244,
   "metadata": {},
   "outputs": [],
   "source": [
    "cnn_part = Sequential()\n",
    "cnn_part.add(Conv2D(filters=64, kernel_size=(3,3), activation='relu', input_shape=(8,8,1)))\n",
    "cnn_part.add(MaxPooling2D())\n",
    "cnn_part.add(Conv2D(filters=128, kernel_size=(3,3), activation='relu'))\n",
    "#cnn_part.add(BatchNormalization())\n",
    "cnn_part.add(Flatten())\n",
    "cnn_part.add(Dense(units=128, activation=\"relu\"))"
   ]
  },
  {
   "cell_type": "code",
   "execution_count": 245,
   "metadata": {},
   "outputs": [
    {
     "name": "stdout",
     "output_type": "stream",
     "text": [
      "Model: \"sequential_14\"\n",
      "_________________________________________________________________\n",
      " Layer (type)                Output Shape              Param #   \n",
      "=================================================================\n",
      " conv2d_28 (Conv2D)          (None, 6, 6, 64)          640       \n",
      "                                                                 \n",
      " max_pooling2d_10 (MaxPoolin  (None, 3, 3, 64)         0         \n",
      " g2D)                                                            \n",
      "                                                                 \n",
      " conv2d_29 (Conv2D)          (None, 1, 1, 128)         73856     \n",
      "                                                                 \n",
      " flatten_14 (Flatten)        (None, 128)               0         \n",
      "                                                                 \n",
      " dense_16 (Dense)            (None, 128)               16512     \n",
      "                                                                 \n",
      "=================================================================\n",
      "Total params: 91,008\n",
      "Trainable params: 91,008\n",
      "Non-trainable params: 0\n",
      "_________________________________________________________________\n"
     ]
    }
   ],
   "source": [
    "cnn_part.summary()"
   ]
  },
  {
   "cell_type": "markdown",
   "metadata": {},
   "source": [
    "# Build SNN"
   ]
  },
  {
   "cell_type": "code",
   "execution_count": 246,
   "metadata": {},
   "outputs": [],
   "source": [
    "input1, input2 = Input(shape=(8,8,1), name=\"Image1\"), Input(shape=(8,8,1), name=\"Image2\")\n",
    "# Share the single output layer for both inputs\n",
    "output1, output2 = cnn_part(input1), cnn_part(input2)"
   ]
  },
  {
   "cell_type": "code",
   "execution_count": 247,
   "metadata": {},
   "outputs": [],
   "source": [
    "from tensorflow.keras import backend as K\n",
    "\n",
    "# Creating the final layer of the SNN\n",
    "def euclidean_distance(vectors):\n",
    "    # vectors is a list containing two tensors\n",
    "    x, y = vectors\n",
    "    # Compute the Euclidean distance between x and y\n",
    "    return K.sqrt(K.sum(K.square(x - y), axis=1, keepdims=True))\n",
    "\n",
    "def contrastive_loss(y_true, y_pred):\n",
    "    \"\"\"\n",
    "    y_true: Binary labels (1 for similar pairs, 0 for dissimilar pairs)\n",
    "    y_pred: Euclidean distances between the output embeddings\n",
    "    \"\"\"\n",
    "    margin = 1.0  # This can be tuned\n",
    "    positive_loss = y_true * K.square(y_pred)  # Loss for similar pairs\n",
    "    negative_loss = (1 - y_true) * K.square(K.maximum(margin - y_pred, 0))  # Loss for dissimilar pairs\n",
    "    return K.mean(positive_loss + negative_loss)  # Mean loss for the batch"
   ]
  },
  {
   "cell_type": "code",
   "execution_count": 248,
   "metadata": {},
   "outputs": [],
   "source": [
    "final_output = Lambda(euclidean_distance, output_shape=(1,))([output1, output2])\n",
    "#final_output = Dense(1, activation='sigmoid')(distance_layer)"
   ]
  },
  {
   "cell_type": "code",
   "execution_count": 249,
   "metadata": {},
   "outputs": [],
   "source": [
    "snn = Model((input1, input2), final_output)"
   ]
  },
  {
   "cell_type": "code",
   "execution_count": 250,
   "metadata": {},
   "outputs": [],
   "source": [
    "from tensorflow.keras.optimizers import Adam\n",
    "\n",
    "snn.compile(optimizer=Adam(),\n",
    "              loss=contrastive_loss,  # Loss function for classification\n",
    "              metrics=['accuracy']\n",
    "              )"
   ]
  },
  {
   "cell_type": "code",
   "execution_count": 251,
   "metadata": {},
   "outputs": [
    {
     "name": "stdout",
     "output_type": "stream",
     "text": [
      "Model: \"model_14\"\n",
      "__________________________________________________________________________________________________\n",
      " Layer (type)                   Output Shape         Param #     Connected to                     \n",
      "==================================================================================================\n",
      " Image1 (InputLayer)            [(None, 8, 8, 1)]    0           []                               \n",
      "                                                                                                  \n",
      " Image2 (InputLayer)            [(None, 8, 8, 1)]    0           []                               \n",
      "                                                                                                  \n",
      " sequential_14 (Sequential)     (None, 128)          91008       ['Image1[0][0]',                 \n",
      "                                                                  'Image2[0][0]']                 \n",
      "                                                                                                  \n",
      " lambda_14 (Lambda)             (None, 1)            0           ['sequential_14[0][0]',          \n",
      "                                                                  'sequential_14[1][0]']          \n",
      "                                                                                                  \n",
      "==================================================================================================\n",
      "Total params: 91,008\n",
      "Trainable params: 91,008\n",
      "Non-trainable params: 0\n",
      "__________________________________________________________________________________________________\n"
     ]
    }
   ],
   "source": [
    "snn.summary()"
   ]
  },
  {
   "cell_type": "markdown",
   "metadata": {},
   "source": [
    "# Train SNN"
   ]
  },
  {
   "cell_type": "code",
   "execution_count": 252,
   "metadata": {},
   "outputs": [],
   "source": [
    "X1_train = np.array([pair[0] for pair in pairs_train])  # First image in each pair\n",
    "X2_train = np.array([pair[1] for pair in pairs_train])  # Second image in each pair\n",
    "\n",
    "X1_test = np.array([pair[0] for pair in pairs_test])  # First image in each pair\n",
    "X2_test = np.array([pair[1] for pair in pairs_test])  # Second image in each pair"
   ]
  },
  {
   "cell_type": "code",
   "execution_count": 253,
   "metadata": {},
   "outputs": [
    {
     "name": "stdout",
     "output_type": "stream",
     "text": [
      "Epoch 1/100\n",
      "1563/1563 [==============================] - 6s 4ms/step - loss: 0.2826 - accuracy: 0.5107 - val_loss: 0.3277 - val_accuracy: 0.6288\n",
      "Epoch 2/100\n",
      "1563/1563 [==============================] - 6s 4ms/step - loss: 0.2667 - accuracy: 0.4974 - val_loss: 0.3231 - val_accuracy: 0.6399\n",
      "Epoch 3/100\n",
      "1563/1563 [==============================] - 5s 3ms/step - loss: 0.2626 - accuracy: 0.4874 - val_loss: 0.3277 - val_accuracy: 0.6578\n",
      "Epoch 4/100\n",
      "1563/1563 [==============================] - 6s 4ms/step - loss: 0.2639 - accuracy: 0.4857 - val_loss: 0.3461 - val_accuracy: 0.6363\n",
      "Epoch 5/100\n",
      "1563/1563 [==============================] - 5s 3ms/step - loss: 0.2613 - accuracy: 0.4821 - val_loss: 0.3754 - val_accuracy: 0.6704\n"
     ]
    },
    {
     "data": {
      "text/plain": [
       "<keras.callbacks.History at 0x223025a8d30>"
      ]
     },
     "execution_count": 253,
     "metadata": {},
     "output_type": "execute_result"
    }
   ],
   "source": [
    "from tensorflow.keras.callbacks import EarlyStopping\n",
    "\n",
    "es = EarlyStopping(patience=3)\n",
    "snn.fit(x=[X1_train, X2_train], \n",
    "        y = labels_train, \n",
    "        batch_size = 32, \n",
    "        epochs=100,\n",
    "        validation_data=([X1_test, X2_test], labels_test),\n",
    "        callbacks=[es],\n",
    "        shuffle=True)"
   ]
  },
  {
   "cell_type": "code",
   "execution_count": 254,
   "metadata": {},
   "outputs": [
    {
     "name": "stdout",
     "output_type": "stream",
     "text": [
      "313/313 [==============================] - 1s 1ms/step\n",
      "Accuracy: 0.6704\n"
     ]
    }
   ],
   "source": [
    "y_predict = snn.predict([X1_test,X2_test])\n",
    "from sklearn.metrics import accuracy_score\n",
    "Y_predict_decisions = []\n",
    "for i in range(len(y_predict)):\n",
    "    if y_predict[i] > 0.5:\n",
    "        Y_predict_decisions.append(1)\n",
    "    else:\n",
    "        Y_predict_decisions.append(0)\n",
    "\n",
    "# Calculate accuracy\n",
    "accuracy = accuracy_score(labels_test, Y_predict_decisions)\n",
    "print(\"Accuracy:\", accuracy)\n"
   ]
  },
  {
   "cell_type": "code",
   "execution_count": null,
   "metadata": {},
   "outputs": [],
   "source": []
  }
 ],
 "metadata": {
  "kernelspec": {
   "display_name": "base",
   "language": "python",
   "name": "python3"
  },
  "language_info": {
   "codemirror_mode": {
    "name": "ipython",
    "version": 3
   },
   "file_extension": ".py",
   "mimetype": "text/x-python",
   "name": "python",
   "nbconvert_exporter": "python",
   "pygments_lexer": "ipython3",
   "version": "3.10.8"
  }
 },
 "nbformat": 4,
 "nbformat_minor": 2
}
